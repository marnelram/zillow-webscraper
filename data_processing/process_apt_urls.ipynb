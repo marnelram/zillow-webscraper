{
 "cells": [
  {
   "cell_type": "code",
   "execution_count": 3,
   "metadata": {},
   "outputs": [],
   "source": [
    "import json\n",
    "\n",
    "# load the apartment dictionary\n",
    "with open('C:/Projects/Housing_Price_Prediction/data_processing/raw_apt_keys.json', 'r') as f:\n",
    "    raw_apt_urls_str = f.read()\n",
    "raw_apt_urls_list = json.loads(raw_apt_urls_str)"
   ]
  },
  {
   "cell_type": "code",
   "execution_count": 7,
   "metadata": {},
   "outputs": [],
   "source": [
    "apt_urls_list = []\n",
    "\n",
    "# get the value of the detailUrl key and store it in the apt_urls_list\n",
    "for listing in raw_apt_urls_list:\n",
    "    for key, value in listing.items():\n",
    "        if key == 'detailUrl':\n",
    "            apt_urls_list.append(value)\n",
    "\n",
    "# sift through the urls that don't have a building key.  Should represent the url extension for the base site: https://zillow.com/\n",
    "processed_apt_urls_list = []\n",
    "for url in apt_urls_list:\n",
    "    if 'https' not in url:\n",
    "         processed_apt_urls_list.append(url)\n",
    "\n",
    "# dump the contents into a json file\n",
    "with open('C:/Projects/Housing_Price_Prediction/data_processing/bld_url_exts.json', 'w') as f:\n",
    "    f.write(json.dumps(processed_apt_urls_list))"
   ]
  }
 ],
 "metadata": {
  "kernelspec": {
   "display_name": "web_scraping",
   "language": "python",
   "name": "python3"
  },
  "language_info": {
   "codemirror_mode": {
    "name": "ipython",
    "version": 3
   },
   "file_extension": ".py",
   "mimetype": "text/x-python",
   "name": "python",
   "nbconvert_exporter": "python",
   "pygments_lexer": "ipython3",
   "version": "3.10.4"
  },
  "orig_nbformat": 4
 },
 "nbformat": 4,
 "nbformat_minor": 2
}
