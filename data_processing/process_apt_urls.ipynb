{
 "cells": [
  {
   "cell_type": "code",
   "execution_count": 29,
   "metadata": {},
   "outputs": [],
   "source": [
    "import json\n",
    "\n",
    "# load the apartment dictionary\n",
    "with open('C:/Projects/Housing_Price_Prediction/data_processing/raw_apt_keys.json', 'r') as f:\n",
    "    raw_apt_urls_str = f.read()\n",
    "raw_apt_urls_list = json.loads(raw_apt_urls_str)"
   ]
  },
  {
   "cell_type": "code",
   "execution_count": 36,
   "metadata": {},
   "outputs": [
    {
     "ename": "PermissionError",
     "evalue": "[Errno 13] Permission denied: 'C:/Projects/Housing_Price_Prediction/data_processing'",
     "output_type": "error",
     "traceback": [
      "\u001b[1;31m---------------------------------------------------------------------------\u001b[0m",
      "\u001b[1;31mPermissionError\u001b[0m                           Traceback (most recent call last)",
      "Cell \u001b[1;32mIn[36], line 16\u001b[0m\n\u001b[0;32m     13\u001b[0m          processed_apt_urls_list\u001b[39m.\u001b[39mappend(url)\n\u001b[0;32m     15\u001b[0m \u001b[39m# dump the contents into a json file\u001b[39;00m\n\u001b[1;32m---> 16\u001b[0m \u001b[39mwith\u001b[39;00m \u001b[39mopen\u001b[39;49m(\u001b[39m'\u001b[39;49m\u001b[39mC:/Projects/Housing_Price_Prediction/data_processing\u001b[39;49m\u001b[39m'\u001b[39;49m, \u001b[39m'\u001b[39;49m\u001b[39mw\u001b[39;49m\u001b[39m'\u001b[39;49m) \u001b[39mas\u001b[39;00m f:\n\u001b[0;32m     17\u001b[0m     f\u001b[39m.\u001b[39mwrite(json\u001b[39m.\u001b[39mdumps(processed_apt_urls_list))\n",
      "File \u001b[1;32mc:\\pythonvenv\\web_scraping\\lib\\site-packages\\IPython\\core\\interactiveshell.py:284\u001b[0m, in \u001b[0;36m_modified_open\u001b[1;34m(file, *args, **kwargs)\u001b[0m\n\u001b[0;32m    277\u001b[0m \u001b[39mif\u001b[39;00m file \u001b[39min\u001b[39;00m {\u001b[39m0\u001b[39m, \u001b[39m1\u001b[39m, \u001b[39m2\u001b[39m}:\n\u001b[0;32m    278\u001b[0m     \u001b[39mraise\u001b[39;00m \u001b[39mValueError\u001b[39;00m(\n\u001b[0;32m    279\u001b[0m         \u001b[39mf\u001b[39m\u001b[39m\"\u001b[39m\u001b[39mIPython won\u001b[39m\u001b[39m'\u001b[39m\u001b[39mt let you open fd=\u001b[39m\u001b[39m{\u001b[39;00mfile\u001b[39m}\u001b[39;00m\u001b[39m by default \u001b[39m\u001b[39m\"\u001b[39m\n\u001b[0;32m    280\u001b[0m         \u001b[39m\"\u001b[39m\u001b[39mas it is likely to crash IPython. If you know what you are doing, \u001b[39m\u001b[39m\"\u001b[39m\n\u001b[0;32m    281\u001b[0m         \u001b[39m\"\u001b[39m\u001b[39myou can use builtins\u001b[39m\u001b[39m'\u001b[39m\u001b[39m open.\u001b[39m\u001b[39m\"\u001b[39m\n\u001b[0;32m    282\u001b[0m     )\n\u001b[1;32m--> 284\u001b[0m \u001b[39mreturn\u001b[39;00m io_open(file, \u001b[39m*\u001b[39margs, \u001b[39m*\u001b[39m\u001b[39m*\u001b[39mkwargs)\n",
      "\u001b[1;31mPermissionError\u001b[0m: [Errno 13] Permission denied: 'C:/Projects/Housing_Price_Prediction/data_processing'"
     ]
    }
   ],
   "source": [
    "apt_urls_list = []\n",
    "\n",
    "# get the value of the detailUrl key and store it in the apt_urls_list\n",
    "for listing in raw_apt_urls_list:\n",
    "    for key, value in listing.items():\n",
    "        if key == 'detailUrl':\n",
    "            apt_urls_list.append(value)\n",
    "\n",
    "# sift through the urls that don't have a building key.  Should represent the url extension for the base site: https://zillow.com/\n",
    "processed_apt_urls_list = []\n",
    "for url in processed_apt_urls_list:\n",
    "    if 'https' not in url:\n",
    "         processed_apt_urls_list.append(url)\n",
    "\n",
    "# dump the contents into a json file\n",
    "with open('C:/Projects/Housing_Price_Prediction/data_processing', 'w') as f:\n",
    "    f.write(json.dumps(processed_apt_urls_list))"
   ]
  }
 ],
 "metadata": {
  "kernelspec": {
   "display_name": "web_scraping",
   "language": "python",
   "name": "python3"
  },
  "language_info": {
   "codemirror_mode": {
    "name": "ipython",
    "version": 3
   },
   "file_extension": ".py",
   "mimetype": "text/x-python",
   "name": "python",
   "nbconvert_exporter": "python",
   "pygments_lexer": "ipython3",
   "version": "3.10.4"
  },
  "orig_nbformat": 4
 },
 "nbformat": 4,
 "nbformat_minor": 2
}
