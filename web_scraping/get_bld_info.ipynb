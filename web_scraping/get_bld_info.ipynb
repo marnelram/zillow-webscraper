{
 "cells": [
  {
   "attachments": {},
   "cell_type": "markdown",
   "metadata": {},
   "source": [
    "load the url list"
   ]
  },
  {
   "cell_type": "code",
   "execution_count": 1,
   "metadata": {},
   "outputs": [],
   "source": [
    "import json\n",
    "\n",
    "# open up the url_list\n",
    "with open('C:/Projects/Housing_Price_Prediction/data_processing/bld_url_exts.json', 'r') as f:\n",
    "    raw_url_ext_list = f.read()\n",
    "\n",
    "url_ext_list = json.loads(raw_url_ext_list)\n",
    "\n",
    "# **FIX PLS repeats in the urls probably from the problems in the rent interval ;.; going to fix later\n",
    "url_ext_list = url_ext_list[0:540]"
   ]
  },
  {
   "attachments": {},
   "cell_type": "markdown",
   "metadata": {},
   "source": [
    "get's the building key from the url extensions and store it in a new param_list"
   ]
  },
  {
   "cell_type": "code",
   "execution_count": 2,
   "metadata": {},
   "outputs": [],
   "source": [
    "# get the building keys from the url\n",
    "request_params_list = []\n",
    "for url_ext in url_ext_list:\n",
    "    # get the last url extension\n",
    "    last_ext = url_ext.split('/')[-2]\n",
    "\n",
    "    # if it's not already the building key, get the building key from the last url extension\n",
    "    split_last_ext_list = last_ext.split('-')\n",
    "    if len(split_last_ext_list) > 1:\n",
    "        if \"_\" not in split_last_ext_list[-1]:\n",
    "            building_key = split_last_ext_list[-1]\n",
    "    else:\n",
    "        building_key = split_last_ext_list[0]\n",
    "\n",
    "    # append the building key and the url to the param_list\n",
    "    request_params_list.append((url_ext, building_key))"
   ]
  },
  {
   "attachments": {},
   "cell_type": "markdown",
   "metadata": {},
   "source": [
    "### makes html requests to each building's page and extracts information from zillow's backend server and store it in a response list"
   ]
  },
  {
   "cell_type": "code",
   "execution_count": 3,
   "metadata": {},
   "outputs": [],
   "source": [
    "import requests\n",
    "import time\n",
    "from fake_useragent import UserAgent\n",
    "\n",
    "# 'Mozilla/5.0 (Linux; Android 6.0; Nexus 5 Build/MRA58N) AppleWebKit/537.36 (KHTML, like Gecko) Chrome/112.0.0.0 Mobile Safari/537.36'\n",
    "# make a fake_useragent object\n",
    "ua = UserAgent()\n",
    "\n",
    "failed_request_count = 0\n",
    "timeout = 0.1\n",
    "# make a request for each listing and store the response in the response_list\n",
    "response_list = []\n",
    "\n",
    "\n",
    "for (url_ext, building_key) in request_params_list[0:5]:\n",
    "\n",
    "    # the `header` parameter includes information about your browser's current status.  important for preventing captia prompts from zillow\n",
    "    headers = {\n",
    "        'authority': 'www.zillow.com',\n",
    "        'accept': '*/*',\n",
    "        'accept-language': 'en-US,en;q=0.9',\n",
    "        'client-id': 'vertical-living',\n",
    "        'content-type': 'text/plain',\n",
    "        'dnt': '1',\n",
    "        'origin': 'https://www.zillow.com',\n",
    "        'referer': 'https://www.zillow.com' + url_ext,\n",
    "        'sec-ch-ua': '\"Chromium\";v=\"112\", \"Google Chrome\";v=\"112\", \"Not:A-Brand\";v=\"99\"',\n",
    "        'sec-ch-ua-mobile': '?1',\n",
    "        'sec-ch-ua-platform': '\"Android\"',\n",
    "        'sec-fetch-dest': 'empty',\n",
    "        'sec-fetch-mode': 'cors',\n",
    "        'sec-fetch-site': 'same-origin',\n",
    "        'user-agent': ua.random,\n",
    "    }\n",
    "\n",
    "    data = '{\"operationName\":\"BuildingQuery\",\"variables\":{\"buildingKey\":' + \"\\\"\" + building_key + \"\\\"\" + ',\"cache\":false,\"latitude\":null,\"longitude\":null,\"lotId\":null,\"update\":true},\"extensions\":{\"persistedQuery\":{\"version\":1,\"sha256Hash\":\"a6b5cd248233c9b3da074a0c6daacf6e6388a9b3a7de3347043b2e1b41d095b6\"}}}'\n",
    "\n",
    "    response = requests.post('https://www.zillow.com/graphql/', headers=headers, data=data)\n",
    "\n",
    "    # append the response if the response went through\n",
    "    if response.status_code == 200:\n",
    "        response_list.append(response)\n",
    "    else:\n",
    "        failed_request_count += 1\n",
    "    \n",
    "    # wait before the next request\n",
    "    time.sleep(timeout)"
   ]
  },
  {
   "attachments": {},
   "cell_type": "markdown",
   "metadata": {},
   "source": [
    "### iterate through each response in response_list and performs a few steps:\n",
    "1. parse it into a python dict\n",
    "2. Extract the `building` key from the dict\n",
    "3. appends it to the `bld_info_list`\n",
    "4. removes all the useless keys from the each dict in the `bld_info_list`\n",
    "\n",
    "The object from the reponse represents a python dict (or more precisely a dict of dicts), and the dictionary that contains the relevent building information is in the `building` dictionary.  This block iterates through each response and extracts that `building` dictionary to parse later\n"
   ]
  },
  {
   "cell_type": "code",
   "execution_count": 10,
   "metadata": {},
   "outputs": [],
   "source": [
    "import json\n",
    "\n",
    "bld_info_list = []\n",
    "json_parse_error_count = 0\n",
    "for response in response_list:\n",
    "\n",
    "    # 1. parse the response into a python dict, if it fails to parse the response, increase the error count\n",
    "    try:\n",
    "        raw_bld_info_dict = json.loads(response.text)\n",
    "\n",
    "        # 2. extract the building key\n",
    "        for key, value in raw_bld_info_dict.items():\n",
    "            if key == 'data':\n",
    "                for key, value in value.items():\n",
    "                    if key == 'building':\n",
    "                        bld_info_dict = value\n",
    "\n",
    "        # append the listing information to the listing information list\n",
    "        bld_info_list.append(bld_info_dict)\n",
    "\n",
    "    except json.JSONDecodeError as e:\n",
    "        json_parse_error_count += 1\n",
    "\n",
    "# 4. removes the useless keys\n",
    "useless_keys = ['regionIds', 'adTargets', 'streetAddress', '__typename', 'breadcrumbs', 'streetViewTileImageUrlLocationModuleLatLong', 'streetViewTileImageUrlLocationModuleAddress', 'streetViewMetadataUrlMediaWallLatLong', 'streetViewMetadataUrlMediaWallAddress', 'mapTileGoogleMapUrlLocationModule', 'mapTileGoogleMapUrlFullWidthMax', 'streetViewTileImageUrlHalfWidthLatLong', 'streetViewTileImageUrlHalfWidthAddress', 'isWaitlisted', 'isInstantTourEnabled', 'isInstantTourCancellable', 'bestGuessTimezone', 'rentalInstantTour', 'amenitiesVRModels', 'galleryPhotos', 'galleryAmenityPhotos', 'fullAddress', 'bdpUrl', 'zpid', 'buildingPhoneNumber', 'county', 'ungroupedUnits', 'nearbyCities', 'nearbyNeighborhoods', 'country', 'nearbyZipcodes', 'nearbyBuildingLinks', 'comps', 'ppcLink', 'reviewsInfo', 'housingConnector', 'localProtections', 'buildingRentalPremiumPackagesInfo', 'homeInsights', 'bestMatchedUnit', 'photos', 'amenityPhotos', 'staticMap', 'staticMapSatellite', 'streetViewLatLong', 'streetViewAddress', 'thirdPartyVirtualTours', 'currency', 'specialOffers', 'listingMetadata', 'vaLoanStatus', 'engrain', 'homeTypes', 'providerInfoList', 'unitsVRModels', 'city', 'state', 'contactInfo']\n",
    "\n",
    "for bld_info_dict in bld_info_list:\n",
    "    for key in useless_keys:\n",
    "        if key in bld_info_dict:\n",
    "            del bld_info_dict[key]\n",
    "\n",
    "# dump the contents into a json file\n",
    "with open('C:/Projects/Housing_Price_Prediction/data_processing/raw_bld_info.json', 'w') as f:\n",
    "    f.write(json.dumps(bld_info_list))"
   ]
  }
 ],
 "metadata": {
  "kernelspec": {
   "display_name": "web_scraping",
   "language": "python",
   "name": "python3"
  },
  "language_info": {
   "codemirror_mode": {
    "name": "ipython",
    "version": 3
   },
   "file_extension": ".py",
   "mimetype": "text/x-python",
   "name": "python",
   "nbconvert_exporter": "python",
   "pygments_lexer": "ipython3",
   "version": "3.10.4"
  },
  "orig_nbformat": 4
 },
 "nbformat": 4,
 "nbformat_minor": 2
}
